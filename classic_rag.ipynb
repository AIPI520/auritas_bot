{
 "cells": [
  {
   "cell_type": "code",
   "execution_count": null,
   "metadata": {},
   "outputs": [
    {
     "name": "stdout",
     "output_type": "stream",
     "text": [
      "Successfully installed sympy-1.13.1\n"
     ]
    }
   ],
   "source": [
    "# !pip install sentence_transformers"
   ]
  },
  {
   "cell_type": "code",
   "execution_count": null,
   "metadata": {},
   "outputs": [],
   "source": [
    "!pip install tf-keras"
   ]
  },
  {
   "cell_type": "code",
   "execution_count": 5,
   "metadata": {},
   "outputs": [],
   "source": [
    "import os\n",
    "from dotenv import load_dotenv\n",
    "# import openai\n",
    "import chromadb\n",
    "from sentence_transformers import SentenceTransformer  # For embeddings"
   ]
  },
  {
   "cell_type": "code",
   "execution_count": 6,
   "metadata": {},
   "outputs": [],
   "source": [
    "# Load environment variables from .env file\n",
    "load_dotenv(override=True)\n",
    "\n",
    "# Retrieve the API key\n",
    "cohere_key = os.getenv(\"COHERE_API_KEY\")"
   ]
  },
  {
   "cell_type": "code",
   "execution_count": 7,
   "metadata": {},
   "outputs": [],
   "source": [
    "import cohere\n",
    "import qdrant_client\n",
    "from qdrant_client import QdrantClient\n",
    "from qdrant_client.models import Batch\n",
    "\n",
    "# Initialize clients\n",
    "cohere_client = cohere.ClientV2(cohere_key)\n",
    "# qdrant_client = qdrant_client.QdrantClient(host=\"localhost\", port=6333)"
   ]
  },
  {
   "cell_type": "code",
   "execution_count": 15,
   "metadata": {},
   "outputs": [],
   "source": [
    "qdrant_client = QdrantClient(host=\"host.docker.internal\", port=6333)"
   ]
  },
  {
   "cell_type": "code",
   "execution_count": 35,
   "metadata": {},
   "outputs": [],
   "source": [
    "import os\n",
    "from typing import List\n",
    "from PyPDF2 import PdfReader\n",
    "from concurrent.futures import ThreadPoolExecutor\n",
    "\n",
    "def process_pdf_to_text(file_path: str, num_threads: int = 4) -> str:\n",
    "    \"\"\"\n",
    "    Processes a PDF file and extracts its content as a single text string.\n",
    "\n",
    "    Args:\n",
    "        file_path: The path to the PDF file.\n",
    "        num_threads: The number of threads to use for parallel page processing.\n",
    "\n",
    "    Returns:\n",
    "        The extracted text as a single string with no newlines. Returns an empty string on error.\n",
    "\n",
    "    Raises:\n",
    "        FileNotFoundError: If the file does not exist.\n",
    "        ValueError: If the file is not a PDF.\n",
    "    \"\"\"\n",
    "    if not os.path.exists(file_path):\n",
    "        raise FileNotFoundError(f\"File not found: {file_path}\")\n",
    "\n",
    "    if not file_path.lower().endswith(\".pdf\"):\n",
    "        raise ValueError(f\"File is not a PDF: {file_path}\")\n",
    "\n",
    "    try:\n",
    "        with open(file_path, 'rb') as file:\n",
    "            reader = PdfReader(file)\n",
    "            num_pages = len(reader.pages)\n",
    "\n",
    "            # Use ThreadPoolExecutor to process pages in parallel\n",
    "            with ThreadPoolExecutor(max_workers=num_threads) as executor:\n",
    "                page_texts = list(executor.map(extract_page_text, [(reader, i) for i in range(num_pages)]))\n",
    "\n",
    "            return \" \".join(page_texts)  # Join all pages into a single string without newlines\n",
    "\n",
    "    except Exception as e:\n",
    "        print(f\"Error processing PDF {file_path}: {e}\")  # More specific error\n",
    "        return \"\"\n",
    "\n",
    "def extract_page_text(args):\n",
    "    \"\"\"Helper function for parallel PDF page extraction.\"\"\"\n",
    "    reader, page_num = args\n",
    "    try:\n",
    "        page = reader.pages[page_num]\n",
    "        return \" \".join(page.extract_text().split())  # Remove newlines and extra spaces\n",
    "    except Exception as e:\n",
    "        print(f\"Error processing page {page_num}: {e}\")  # Error handling\n",
    "        return \"\""
   ]
  },
  {
   "cell_type": "code",
   "execution_count": 36,
   "metadata": {},
   "outputs": [
    {
     "name": "stdout",
     "output_type": "stream",
     "text": [
      "Extracted Text:\n",
      "Additional Application Information If we request additional information to process your application, including but not limited to income and additional identification documentation, please ensure that it is submitted to the Leasing Office within 3 calendar days of the request. If documentation is not received within 3 days, the application will be canceled. Please note that processing of your application may take up to 10 days. Hold Deposit The hold deposit will be applied to the balance due at move- in. If written cancellation is received within 3 days from the date of application or if we cannot approve your application, a refund of the hold deposit payment will be mailed within 20 business days. Required documents must be received within 3 days of the request, or your application will be canceled, and the hold deposit will be forfeited. Security Deposit Requirement The Refundable Security Deposit amount disclosed here is subject to change, pending final credit review, and is due on or before move- in. Administrative Fee An administrative fee will be charged upon approval, and will be due within 5 calendar days of application, but no later than 24 hours after approval, to continue reserving the apartment. Wait List Applications When applying to be placed on our Wait List, today's pricing is guaranteed subject to availability, apartment features, and a move- in date within 90 days. A Leasing Representative can provide a locked- in price quote. Lease Start Date Please be advised that the lease start date may not be changed for this address after approval but we may be able to accommodate an earlier lease start date. Following Month's Rent If your move- in date is the 25th to the 31st, the following month's rent will be due at move- in. Online Payments Your Application Payments paid today will not charge an additional a fee. After approval, online E- Checks are accepted without a fee, but Credit Card payments will incur a 2.95% fee. Other payment types including money orders are accepted without a fee. Lead- Based Paint Disclosure Housing built before 1978 may contain lead- based paint. Upon receipt of your application, we will send you a Disclosure of Information on Lead- Based Paint for your review and signature. Please contact the Leasing Office if you have any questions. Renter's Insurance Requirement Proof of $100,000 liability coverage and personal property coverage in the amount sufficient to protect your personal property must be presented prior to move- in, and coverage must be maintained throughout residency. In addition to a renter’s insurance policy, if your apartment is located in a flood plain, it is recommended that you acquire appropriate flood insurance. Student Applications Student lease packages are subject to verification and approval of student status. Security deposit may be required on income qualification and/or guarantor. Student packages and discounts may not be combined with other specials. Parking Program In order to assure our residents of the availability of parking, this community has a parking program. Residents are required to provide vehicle registration, residents’ vehicles are required to display a current parking sticker, and residents obtain passes/permits for their guests. Consent & Acknowledgement By checking “I agree” below, I: • attest that all statements and representations herein are true and correct to the best of my knowledge. Providing any misleading, incorrect, or untrue information in this application is grounds for denial of the application or termination of my right of occupancy at Owner’s sole discretion. I waive any claim for damages for denial of the application. • authorize verification of such statements including the release of criminal records from any jurisdiction, credit reports, mortgage and/or rental history, employment and income verification, and/or student status information for the purpose of determining my qualification for apartment rental and/or further verification as necessary during or after any Lease(s) resulting from this application. • understand that if I lease an apartment, the Owner and its agent shall have a continuing right to review credit information, rental application, payment history, occupancy history, and related information for account review purposes and for improving application methods. • understand that the management company and Owner have no duty to verify, and neither represents nor covenants that it will verify, the accuracy of the answers provided to the forgoing questions concerning prospective residents; therefore, expressly disclaims any obligation, to perform a criminal background check on applicants for occupancy in the community and does not guarantee or represent that all residents have no prior criminal record or background or that management has undertaken any effort to verify the lack of a criminal record or background in its applicants.\n"
     ]
    }
   ],
   "source": [
    "extracted_text = process_pdf_to_text(\"./legal.pdf\")\n",
    "print(f\"Extracted Text:\\n{extracted_text}\")"
   ]
  },
  {
   "cell_type": "markdown",
   "metadata": {},
   "source": [
    "Define new extracted text"
   ]
  },
  {
   "cell_type": "code",
   "execution_count": 8,
   "metadata": {},
   "outputs": [
    {
     "name": "stdout",
     "output_type": "stream",
     "text": [
      "File content loaded successfully.\n"
     ]
    }
   ],
   "source": [
    "def get_text_from_file(file_path):\n",
    "  \"\"\"Reads all text content from a specified file path.\n",
    "\n",
    "  Args:\n",
    "    file_path: The full path to the text file.\n",
    "\n",
    "  Returns:\n",
    "    A string containing the entire text content of the file,\n",
    "    or None if the file cannot be read.\n",
    "  \"\"\"\n",
    "  extracted_text = None\n",
    "  try:\n",
    "    # Ensure the file path exists\n",
    "    if os.path.exists(file_path):\n",
    "      with open(file_path, 'r', encoding='utf-8') as f:\n",
    "        extracted_text = f.read()\n",
    "    else:\n",
    "      print(f\"Error: File not found at {file_path}\")\n",
    "  except Exception as e:\n",
    "    print(f\"An error occurred while reading the file: {e}\")\n",
    "  return extracted_text\n",
    "\n",
    "# Example usage:\n",
    "file_location = \"/Users/ruhwang/Desktop/AI/spring2025_courses/aipi590-llms/auritas/case_studies.txt\"\n",
    "extracted_text_object = get_text_from_file(file_location)\n",
    "\n",
    "# You can now use the extracted_text_object variable which holds the file content\n",
    "if extracted_text_object is not None:\n",
    "  print(\"File content loaded successfully.\")\n",
    "  # print(extracted_text_object) # Uncomment to print the content"
   ]
  },
  {
   "cell_type": "code",
   "execution_count": 10,
   "metadata": {},
   "outputs": [],
   "source": [
    "extracted_text = extracted_text_object"
   ]
  },
  {
   "cell_type": "code",
   "execution_count": 11,
   "metadata": {},
   "outputs": [],
   "source": [
    "def customize_chunking(text, chunk_size=300):\n",
    "    list_of_chunks = []\n",
    "    chunk = \"\"\n",
    "    for i in range(0, len(text), chunk_size):\n",
    "        chunk += text[i:i+chunk_size] + \"\\n\"\n",
    "        list_of_chunks.append(chunk)\n",
    "    return list_of_chunks"
   ]
  },
  {
   "cell_type": "code",
   "execution_count": 12,
   "metadata": {},
   "outputs": [
    {
     "name": "stdout",
     "output_type": "stream",
     "text": [
      "Number of chunks: 82\n"
     ]
    }
   ],
   "source": [
    "list_chunks = customize_chunking(extracted_text)\n",
    "print(f\"Number of chunks: {len(list_chunks)}\")"
   ]
  },
  {
   "cell_type": "code",
   "execution_count": 13,
   "metadata": {},
   "outputs": [
    {
     "data": {
      "text/plain": [
       "301"
      ]
     },
     "execution_count": 13,
     "metadata": {},
     "output_type": "execute_result"
    }
   ],
   "source": [
    "len(list_chunks[0])"
   ]
  },
  {
   "cell_type": "code",
   "execution_count": 14,
   "metadata": {},
   "outputs": [
    {
     "name": "stdout",
     "output_type": "stream",
     "text": [
      "Nielsen Holdings PLC, an American information, data, and market measurement firm operating in over 100 countries with approximately 44,000 employees worldwide and assets over 3.5 Billion dollars, sought to implement and streamline SAP BTP Document Management. Founded in 1923, Nielsen looked to embra\n",
      "\n"
     ]
    }
   ],
   "source": [
    "print(list_chunks[0])"
   ]
  },
  {
   "cell_type": "code",
   "execution_count": 16,
   "metadata": {},
   "outputs": [],
   "source": [
    "# Generating the embeddings with Cohere client library\n",
    "embeddings = cohere_client.embed(\n",
    "    texts=list_chunks,\n",
    "    model=\"embed-english-light-v3.0\",\n",
    "    input_type=\"search_document\",\n",
    "    embedding_types=[\"float\"]\n",
    ")"
   ]
  },
  {
   "cell_type": "code",
   "execution_count": 17,
   "metadata": {},
   "outputs": [
    {
     "data": {
      "text/plain": [
       "cohere.types.embed_by_type_response.EmbedByTypeResponse"
      ]
     },
     "execution_count": 17,
     "metadata": {},
     "output_type": "execute_result"
    }
   ],
   "source": [
    "type(embeddings)"
   ]
  },
  {
   "cell_type": "code",
   "execution_count": 19,
   "metadata": {},
   "outputs": [],
   "source": [
    "def query_chunking(query):\n",
    "    response = cohere_client.embed(\n",
    "        texts=query,\n",
    "        model=\"embed-english-light-v3.0\",\n",
    "        input_type=\"search_query\",\n",
    "        embedding_types=[\"float\"]\n",
    "    )\n",
    "    return response # [\"results\"][0][\"text\"]"
   ]
  },
  {
   "cell_type": "code",
   "execution_count": 20,
   "metadata": {},
   "outputs": [],
   "source": [
    "query = ['How do I do online payments?']\n",
    "query_chunks = query_chunking(query)\n",
    "query_embeddings = query_chunks.embeddings.float"
   ]
  },
  {
   "cell_type": "code",
   "execution_count": 21,
   "metadata": {},
   "outputs": [],
   "source": [
    "# Extracting the embeddings\n",
    "embedding_floats = embeddings.embeddings.float"
   ]
  },
  {
   "cell_type": "markdown",
   "metadata": {},
   "source": [
    "https://docs.cohere.com/v2/reference/embed"
   ]
  },
  {
   "cell_type": "markdown",
   "metadata": {},
   "source": [
    "### QDrant"
   ]
  },
  {
   "cell_type": "code",
   "execution_count": 22,
   "metadata": {},
   "outputs": [],
   "source": [
    "qdrant_key = os.getenv(\"QDRANT_API_KEY\")\n",
    "qdrant_host = os.getenv(\"QDRANT_HOST\")"
   ]
  },
  {
   "cell_type": "code",
   "execution_count": 23,
   "metadata": {},
   "outputs": [],
   "source": [
    "qdrant_client = QdrantClient(\n",
    "    url=qdrant_host,  # Your Qdrant Cloud URL\n",
    "    # prefer_grpc=True,  # Use gRPC for better performance\n",
    "    api_key=qdrant_key # Required for Qdrant Cloud authentication\n",
    ")\n",
    "\n",
    "# Test the connection by listing collections\n",
    "# print(qdrant_client.get_collections())"
   ]
  },
  {
   "cell_type": "code",
   "execution_count": 24,
   "metadata": {},
   "outputs": [
    {
     "name": "stdout",
     "output_type": "stream",
     "text": [
      "collections=[CollectionDescription(name='daves-collection'), CollectionDescription(name='new-collection'), CollectionDescription(name='daves-rag')]\n"
     ]
    }
   ],
   "source": [
    "print(qdrant_client.get_collections())"
   ]
  },
  {
   "cell_type": "code",
   "execution_count": null,
   "metadata": {},
   "outputs": [
    {
     "data": {
      "text/plain": [
       "False"
      ]
     },
     "execution_count": 66,
     "metadata": {},
     "output_type": "execute_result"
    }
   ],
   "source": [
    "# qdrant_client.delete_collection(\"new-collection\")\n",
    "# print(\"Collection 'daves-rag' deleted successfully.\")"
   ]
  },
  {
   "cell_type": "code",
   "execution_count": 25,
   "metadata": {},
   "outputs": [],
   "source": [
    "from qdrant_client.models import VectorParams, Distance\n",
    "from qdrant_client import models"
   ]
  },
  {
   "cell_type": "code",
   "execution_count": 26,
   "metadata": {},
   "outputs": [
    {
     "data": {
      "text/plain": [
       "(list, list, float)"
      ]
     },
     "execution_count": 26,
     "metadata": {},
     "output_type": "execute_result"
    }
   ],
   "source": [
    "type(embedding_floats), type(embedding_floats[0]), type(embedding_floats[0][0])"
   ]
  },
  {
   "cell_type": "code",
   "execution_count": 60,
   "metadata": {},
   "outputs": [
    {
     "data": {
      "text/plain": [
       "True"
      ]
     },
     "execution_count": 60,
     "metadata": {},
     "output_type": "execute_result"
    }
   ],
   "source": [
    "qdrant_client.delete_collection(\"auritas\")\n",
    "# print(\"Collection 'daves-rag' deleted successfully.\")"
   ]
  },
  {
   "cell_type": "markdown",
   "metadata": {},
   "source": [
    "Create Collection and adding items"
   ]
  },
  {
   "cell_type": "code",
   "execution_count": 61,
   "metadata": {},
   "outputs": [
    {
     "data": {
      "text/plain": [
       "True"
      ]
     },
     "execution_count": 61,
     "metadata": {},
     "output_type": "execute_result"
    }
   ],
   "source": [
    "qdrant_client.create_collection(\n",
    "    collection_name=\"auritas\",\n",
    "    vectors_config=VectorParams(size=384, distance=Distance.COSINE),  # Ensure 384 is correct\n",
    ")"
   ]
  },
  {
   "cell_type": "code",
   "execution_count": null,
   "metadata": {},
   "outputs": [
    {
     "data": {
      "text/plain": [
       "UpdateResult(operation_id=0, status=<UpdateStatus.COMPLETED: 'completed'>)"
      ]
     },
     "execution_count": 28,
     "metadata": {},
     "output_type": "execute_result"
    }
   ],
   "source": [
    "# qdrant_client.upsert(\n",
    "#     collection_name=\"auritas\",\n",
    "#     points=models.Batch(\n",
    "#         ids=[i for i in range(len(embedding_floats))],  # Unique IDs for each embedding\n",
    "#         payloads=[{\"text\": f\"Document {i}\"} for i in range(len(embedding_floats))],  # Optional metadata\n",
    "#         vectors=embedding_floats,  # Ensure embeddings are a List[List[float]]\n",
    "#     ),\n",
    "# )"
   ]
  },
  {
   "cell_type": "markdown",
   "metadata": {},
   "source": [
    "Crucial"
   ]
  },
  {
   "cell_type": "code",
   "execution_count": 62,
   "metadata": {},
   "outputs": [
    {
     "data": {
      "text/plain": [
       "UpdateResult(operation_id=0, status=<UpdateStatus.COMPLETED: 'completed'>)"
      ]
     },
     "execution_count": 62,
     "metadata": {},
     "output_type": "execute_result"
    }
   ],
   "source": [
    "# Store both embeddings and the actual text chunks\n",
    "qdrant_client.upsert(\n",
    "    collection_name=\"auritas\",\n",
    "    points=models.Batch(\n",
    "        ids=[i for i in range(len(embedding_floats))],  # Unique IDs for each embedding\n",
    "        payloads=[{\"text\": list_chunks[i]} for i in range(len(embedding_floats))],  # Store actual text chunks\n",
    "        vectors=embedding_floats,  # The embeddings\n",
    "    ),\n",
    ")"
   ]
  },
  {
   "cell_type": "markdown",
   "metadata": {},
   "source": [
    "https://qdrant.tech/documentation/frameworks/langchain/#\n",
    "\n",
    "\n",
    "https://qdrant.tech/documentation/guides/installation/"
   ]
  },
  {
   "cell_type": "code",
   "execution_count": null,
   "metadata": {},
   "outputs": [],
   "source": [
    "collection_info = qdrant_client.get_collection(\"new-collection\")\n",
    "print(collection_info)"
   ]
  },
  {
   "cell_type": "code",
   "execution_count": null,
   "metadata": {},
   "outputs": [],
   "source": [
    "collection_info = qdrant_client.get_collection(\"daves-rag\")\n",
    "print(collection_info)"
   ]
  },
  {
   "cell_type": "code",
   "execution_count": 29,
   "metadata": {},
   "outputs": [
    {
     "name": "stdout",
     "output_type": "stream",
     "text": [
      "status=<CollectionStatus.GREEN: 'green'> optimizer_status=<OptimizersStatusOneOf.OK: 'ok'> vectors_count=None indexed_vectors_count=0 points_count=82 segments_count=2 config=CollectionConfig(params=CollectionParams(vectors=VectorParams(size=384, distance=<Distance.COSINE: 'Cosine'>, hnsw_config=None, quantization_config=None, on_disk=None, datatype=None, multivector_config=None), shard_number=1, sharding_method=None, replication_factor=1, write_consistency_factor=1, read_fan_out_factor=None, on_disk_payload=True, sparse_vectors=None), hnsw_config=HnswConfig(m=16, ef_construct=100, full_scan_threshold=10000, max_indexing_threads=0, on_disk=False, payload_m=None), optimizer_config=OptimizersConfig(deleted_threshold=0.2, vacuum_min_vector_number=1000, default_segment_number=0, max_segment_size=None, memmap_threshold=None, indexing_threshold=20000, flush_interval_sec=5, max_optimization_threads=None), wal_config=WalConfig(wal_capacity_mb=32, wal_segments_ahead=0), quantization_config=None, strict_mode_config=StrictModeConfig(enabled=False, max_query_limit=None, max_timeout=None, unindexed_filtering_retrieve=None, unindexed_filtering_update=None, search_max_hnsw_ef=None, search_allow_exact=None, search_max_oversampling=None, upsert_max_batchsize=None, max_collection_vector_size_bytes=None, read_rate_limit=None, write_rate_limit=None, max_collection_payload_size_bytes=None, filter_max_conditions=None, condition_max_size=None)) payload_schema={}\n"
     ]
    }
   ],
   "source": [
    "collection_info = qdrant_client.get_collection(\"auritas\")\n",
    "print(collection_info)"
   ]
  },
  {
   "cell_type": "markdown",
   "metadata": {},
   "source": [
    "#### Without Manual input"
   ]
  },
  {
   "cell_type": "code",
   "execution_count": 30,
   "metadata": {},
   "outputs": [
    {
     "name": "stdout",
     "output_type": "stream",
     "text": [
      "Document ID: 5, Score: 0.05813939, Payload: {'text': 'Document 5'}\n",
      "Document ID: 6, Score: 0.05446569, Payload: {'text': 'Document 6'}\n",
      "Document ID: 4, Score: 0.049721014, Payload: {'text': 'Document 4'}\n",
      "Document ID: 7, Score: 0.04711134, Payload: {'text': 'Document 7'}\n",
      "Document ID: 79, Score: 0.04009522, Payload: {'text': 'Document 79'}\n"
     ]
    },
    {
     "name": "stderr",
     "output_type": "stream",
     "text": [
      "/var/folders/rt/0kf7v29569z7rctzmpst_dsh0000gn/T/ipykernel_23533/1277002043.py:9: DeprecationWarning: `search` method is deprecated and will be removed in the future. Use `query_points` instead.\n",
      "  top_results = qdrant_client.search(\n"
     ]
    }
   ],
   "source": [
    "# from qdrant_client import QdrantClient\n",
    "\n",
    "# Initialize client\n",
    "# qdrant_client = QdrantClient(host=\"localhost\", port=6333)  # Use 'url=' if using Qdrant Cloud\n",
    "\n",
    "# Define query embedding (Must match the vector size of the collection)\n",
    "\n",
    "# Perform vector search\n",
    "top_results = qdrant_client.search(\n",
    "    collection_name=\"auritas\",  # Your collection name\n",
    "    query_vector=query_embeddings[0],\n",
    "    limit=5  # Return the top 5 most similar documents\n",
    ")\n",
    "\n",
    "# Print results\n",
    "for result in top_results:\n",
    "    print(f\"Document ID: {result.id}, Score: {result.score}, Payload: {result.payload}\")"
   ]
  },
  {
   "cell_type": "code",
   "execution_count": 31,
   "metadata": {},
   "outputs": [],
   "source": [
    "import numpy as np"
   ]
  },
  {
   "cell_type": "code",
   "execution_count": null,
   "metadata": {},
   "outputs": [],
   "source": []
  },
  {
   "cell_type": "code",
   "execution_count": 32,
   "metadata": {},
   "outputs": [
    {
     "data": {
      "text/plain": [
       "([Record(id=0, payload={'text': 'Document 0'}, vector=None, shard_key=None, order_value=None),\n",
       "  Record(id=1, payload={'text': 'Document 1'}, vector=None, shard_key=None, order_value=None),\n",
       "  Record(id=2, payload={'text': 'Document 2'}, vector=None, shard_key=None, order_value=None),\n",
       "  Record(id=3, payload={'text': 'Document 3'}, vector=None, shard_key=None, order_value=None),\n",
       "  Record(id=4, payload={'text': 'Document 4'}, vector=None, shard_key=None, order_value=None)],\n",
       " 5)"
      ]
     },
     "execution_count": 32,
     "metadata": {},
     "output_type": "execute_result"
    }
   ],
   "source": [
    "qdrant_client.scroll(collection_name=\"auritas\", limit=5)"
   ]
  },
  {
   "cell_type": "code",
   "execution_count": 33,
   "metadata": {},
   "outputs": [
    {
     "name": "stdout",
     "output_type": "stream",
     "text": [
      "First vector shape: 384\n",
      "First vector: [0.012359619, -0.07476807, -0.07318115, -0.026184082, -0.05532837]\n"
     ]
    }
   ],
   "source": [
    "print(f\"First vector shape: {len(embedding_floats[0])}\")  # Should be 384\n",
    "print(f\"First vector: {embedding_floats[0][:5]}\")  # Print first 5 values\n"
   ]
  },
  {
   "cell_type": "code",
   "execution_count": 34,
   "metadata": {},
   "outputs": [
    {
     "name": "stdout",
     "output_type": "stream",
     "text": [
      "🚨 Missing vector for ID 0\n",
      "🚨 Missing vector for ID 1\n",
      "🚨 Missing vector for ID 2\n",
      "🚨 Missing vector for ID 3\n",
      "🚨 Missing vector for ID 4\n"
     ]
    }
   ],
   "source": [
    "stored_vectors, _ = qdrant_client.scroll(collection_name=\"auritas\", limit=5)\n",
    "\n",
    "for vec in stored_vectors:\n",
    "    if vec.vector is None:\n",
    "        print(f\"🚨 Missing vector for ID {vec.id}\")\n",
    "    else:\n",
    "        print(f\"✅ ID: {vec.id}, Vector: {vec.vector[:5]}\")  # Print first 5 values"
   ]
  },
  {
   "cell_type": "code",
   "execution_count": null,
   "metadata": {},
   "outputs": [],
   "source": [
    "# qdrant_client = QdrantClient(host=\"host.docker.internal\", port=6333)"
   ]
  },
  {
   "cell_type": "code",
   "execution_count": null,
   "metadata": {},
   "outputs": [
    {
     "name": "stdout",
     "output_type": "stream",
     "text": [
      "CONTAINER ID   IMAGE           COMMAND             CREATED        STATUS             PORTS                              NAMES\n",
      "0b78c463ca42   qdrant/qdrant   \"./entrypoint.sh\"   18 hours ago   Up About an hour   0.0.0.0:6333-6334->6333-6334/tcp   gifted_goldstine\n"
     ]
    }
   ],
   "source": [
    "# !docker ps"
   ]
  },
  {
   "cell_type": "code",
   "execution_count": 35,
   "metadata": {},
   "outputs": [
    {
     "data": {
      "text/plain": [
       "list"
      ]
     },
     "execution_count": 35,
     "metadata": {},
     "output_type": "execute_result"
    }
   ],
   "source": [
    "type(embedding_floats[0])"
   ]
  },
  {
   "cell_type": "code",
   "execution_count": 36,
   "metadata": {},
   "outputs": [],
   "source": [
    "retrieved_points = qdrant_client.scroll(collection_name=\"daves-rag\")"
   ]
  },
  {
   "cell_type": "code",
   "execution_count": 37,
   "metadata": {},
   "outputs": [
    {
     "name": "stdout",
     "output_type": "stream",
     "text": [
      "[Record(id=0, payload={'label': 'sample_0'}, vector=None, shard_key=None, order_value=None), Record(id=1, payload={'label': 'sample_1'}, vector=None, shard_key=None, order_value=None), Record(id=2, payload={'label': 'sample_2'}, vector=None, shard_key=None, order_value=None), Record(id=3, payload={'label': 'sample_3'}, vector=None, shard_key=None, order_value=None), Record(id=4, payload={'label': 'sample_4'}, vector=None, shard_key=None, order_value=None), Record(id=5, payload={'label': 'sample_5'}, vector=None, shard_key=None, order_value=None), Record(id=6, payload={'label': 'sample_6'}, vector=None, shard_key=None, order_value=None), Record(id=7, payload={'label': 'sample_7'}, vector=None, shard_key=None, order_value=None), Record(id=8, payload={'label': 'sample_8'}, vector=None, shard_key=None, order_value=None), Record(id=9, payload={'label': 'sample_9'}, vector=None, shard_key=None, order_value=None)]\n",
      "10\n"
     ]
    }
   ],
   "source": [
    "for point in retrieved_points:\n",
    "    # print(f\"ID: {point.id}, Vector: {point.vector}\")\n",
    "    print(point)"
   ]
  },
  {
   "cell_type": "code",
   "execution_count": 38,
   "metadata": {},
   "outputs": [
    {
     "name": "stdout",
     "output_type": "stream",
     "text": [
      "<class 'list'>\n",
      "82\n",
      "<class 'list'>\n",
      "384\n"
     ]
    }
   ],
   "source": [
    "print(type(embedding_floats))  # Should be <class 'list'>\n",
    "print(len(embedding_floats))   # Should match the number of vectors\n",
    "print(type(embedding_floats[0]))  # Should be <class 'list'>\n",
    "print(len(embedding_floats[0]))  # Should match vector dimension (e.g., 384)\n"
   ]
  },
  {
   "cell_type": "code",
   "execution_count": 44,
   "metadata": {},
   "outputs": [],
   "source": [
    "stored_vectors, _ = qdrant_client.scroll(\n",
    "    collection_name=\"auritas\",\n",
    "    with_vectors=True,\n",
    "    with_payload=True,\n",
    ") "
   ]
  },
  {
   "cell_type": "code",
   "execution_count": 45,
   "metadata": {},
   "outputs": [
    {
     "data": {
      "text/plain": [
       "10"
      ]
     },
     "execution_count": 45,
     "metadata": {},
     "output_type": "execute_result"
    }
   ],
   "source": [
    "len(stored_vectors)"
   ]
  },
  {
   "cell_type": "code",
   "execution_count": 46,
   "metadata": {},
   "outputs": [
    {
     "data": {
      "text/plain": [
       "82"
      ]
     },
     "execution_count": 46,
     "metadata": {},
     "output_type": "execute_result"
    }
   ],
   "source": [
    "len(list_chunks)"
   ]
  },
  {
   "cell_type": "code",
   "execution_count": 39,
   "metadata": {},
   "outputs": [
    {
     "name": "stdout",
     "output_type": "stream",
     "text": [
      "ID: 0, Vector: [0.012355533, -0.07474335, -0.07315696, -0.026175426, -0.055310078, -0.052930493, -0.04679849, 0.12172488, -0.034198895, 0.0064637745, 0.078953385, -0.01258434, 0.042283382, -0.020775601, -0.05601175, 0.11598948, 0.019234972, -0.1266671, -0.0010019804, 0.050428882, 0.0185333, 0.019250225, 0.005106191, -0.051954255, 0.054486375, 0.0358463, 0.06687242, -0.030827818, 0.06220477, 0.00041566454, 0.006879439, -0.08523793, 0.07639075, 0.14509362, 0.11312177, -0.0022670878, 0.020455271, -0.02252978, 0.110315084, 0.009464948, -0.00016016432, 0.025214441, 0.016245238, -0.011074219, 0.015497805, 0.01694691, 0.07096042, 0.002766648, -0.03087358, -0.006242595, -0.025961874, 0.0945122, -0.034534477, -0.1169047, 0.04365622, -0.031880327, -0.01136404, -0.010746263, -0.028951608, -0.038683496, 0.011905548, -0.04423586, 0.08828867, -0.034107372, -0.08627518, -0.013240251, -0.049483147, 0.025199186, 0.015513059, -0.0073332377, -0.049757715, -0.09176653, -0.06833678, 0.01124201, 0.0018571435, 0.04179526, -0.022499274, 0.046005294, 0.031300686, 0.033497225, -0.00020711725, -0.009525964, -0.027563516, -0.024665305, 0.013453803, -0.025122918, 0.0578422, 0.026297456, -0.01321737, 0.0126453545, -0.01221825, 0.012752131, 0.025077157, 0.017282493, -0.036883555, -0.037219137, -0.045425653, 0.08950897, 0.020943392, -0.0024158119, 0.08108891, 0.031910833, -0.01480376, -0.091705516, 0.05186273, -0.0006697347, -0.00938868, 0.04411383, 0.045425653, -0.006452334, 0.040788513, -0.05482196, -0.11904023, 0.042222366, 0.06906895, -0.091339424, -0.0806618, 0.1339889, 0.042954545, -0.04530362, 0.04130714, 0.033954836, 0.003632298, 0.022163691, -0.031071879, -0.012126727, -0.00024882672, 0.009091232, -0.08847172, 0.02777707, 0.0052511017, 0.037890304, -0.048232343, 0.0034454395, 0.06302848, 0.004942213, 0.020836616, 0.016901148, -0.10811854, 0.035876807, 0.025473753, 0.106776215, 0.06339456, 0.015818134, -0.079563536, 0.052350853, 0.13789386, 0.027060144, -0.024619544, 0.02138575, -0.014285132, 0.062662385, 0.0063875057, 0.035175137, -0.013896162, 0.021843363, 0.044693474, -0.038225885, 0.10000355, -0.012683488, 0.008763276, -0.05592023, -0.052350853, 0.07492639, -0.037097108, 0.034931075, 0.02777707, -0.04667646, -0.016565567, 0.083895594, 0.031666774, -0.0067345286, -0.04386977, 0.0578422, -0.029393967, -0.06955708, 0.06833678, 0.039690245, -0.022346737, -0.04457144, 0.057415094, -0.010113233, 0.05979468, 0.0035407755, -0.04484601, 0.023475513, -0.049147565, -0.009739516, -0.05006279, -0.052808464, -0.107630424, 0.07761105, 0.05567617, -0.08206515, -0.018868882, 0.021767095, -0.027487248, -0.0014538725, 0.0019343655, -0.04512058, -0.013507191, -0.0081455, -0.041276634, 0.12190793, -0.032887075, -0.026694054, 0.041398663, 0.096647725, -0.01036492, 0.0777941, 0.042283382, -0.07102144, -0.046737473, -0.024207693, -0.051008523, 0.0067002075, -0.03914111, -0.02089763, -0.1095829, 0.047957774, -0.040300395, 0.07809918, -0.00531593, 0.013400415, 0.05799474, -0.033954836, 0.057659157, -0.08828867, -0.055828705, -0.007272223, -0.027685547, -0.07071636, -0.07224174, -0.020836616, 0.03404636, -0.03685305, -0.03758523, -0.027014382, -0.01331652, -0.015596954, -0.018563807, -0.03474803, -0.07187565, 0.02745674, 0.007962455, 0.05372369, 0.0017675277, 0.052289836, -0.018441778, -0.04023938, -0.06876388, -0.06485892, -0.081577025, -0.0068069836, 0.02338399, -0.09634265, 0.11867414, -0.03474803, -0.050001774, -0.0049345866, -0.027319457, -0.017846882, 0.06699445, 0.010044591, -0.024619544, 0.012187742, -0.023658559, -0.0029611331, -0.035144627, 0.010555591, -0.10000355, 0.055127032, 0.00058011897, 0.09121739, 0.038073346, -0.0147732515, 0.024146678, 0.0219959, 0.023582289, 0.040391915, 0.013491937, 0.028005876, 0.01087592, 0.010837786, -0.021217959, -0.09396307, -0.010425935, 0.15729661, -0.04579174, 0.043229114, 0.08444473, 0.05555414, 0.009815785, -0.012965683, -0.032856565, -0.0033520104, -0.06833678, -0.016840134, 0.009678501, 0.0009423954, -0.031453222, 0.03840893, 0.0056858333, 0.05286948, 0.06912997, -0.02680083, 0.019250225, 0.07224174, 0.056164287, 0.009670874, 0.008625993, -0.009480203, 0.022438258, -0.027273696, 0.057079513, -0.04545616, -0.034595493, 0.017572314, 0.04170374, -0.031117639, -0.005159579, -0.1555882, 0.03685305, -0.032612506, 0.12983988, -0.05347963, 0.028280443, 0.07931947, -0.017648583, 0.06577415, 0.020958645, -0.026221188, -0.049757715, 0.042344395, 0.0032776485, -0.0826753, 0.02863128, 0.03184982, -0.060770918, -0.066140234, 0.03609036, -0.032612506, -0.07266884, -0.020134943, -0.0021126436, -0.034961585, -0.019509539, 0.02016545, -0.041398663, -0.08651924, 0.020012913, 0.043442667, 0.025077157, 0.008862426, 0.04353419, -0.0038191564, -0.09481728, -0.03837842, 0.03450397, 0.049666192, -0.05601175, 0.015985925, -0.026983874, -0.020470526, 0.060709905, -0.009480203, -0.0060366695, 0.049910255, 0.06260137, -0.06992317, -0.024756828, 0.019067181, -0.030827818, -0.029546503, -0.08712939, 0.038347915, -0.044327382, -0.01394955, -0.06565212, -0.09390205, -0.017831627, -0.065347046, 0.056926977, 0.018579062], Text: {'text': 'Document 0'}\n",
      "ID: 1, Vector: [0.008458642, -0.08213044, -0.08304571, -0.009389169, -0.054184124, -0.02681748, -0.06461823, 0.0867068, -0.025063207, 0.013385858, 0.06388601, -0.01458334, 0.02762597, 0.0017142289, -0.068096265, 0.13399588, -0.004530598, -0.11929049, 0.041888963, 0.058790993, -0.0014968517, -0.011334123, 0.006059866, -0.031195533, 0.06834034, 0.04176693, 0.073038734, -0.06913357, 0.06214699, -0.008740851, 0.010456987, -0.07968971, 0.058150303, 0.13289754, 0.07072005, 0.021020755, 0.037953295, -0.00086092803, 0.11556839, 0.03346846, -0.009343405, 0.03978384, -0.017680012, 0.017634246, 0.0036687166, 0.02497168, 0.07608964, 0.018946137, -0.04866198, -0.005979779, -0.042804237, 0.078652404, -0.03511595, -0.116971806, 0.013774849, -0.008397624, -0.019586828, -0.0071353107, -0.045855146, -0.06053001, 0.030798914, 0.0048738252, 0.0776151, -0.03850246, -0.08206942, -0.017435938, -0.04731958, 0.025185244, -0.0072192107, 0.0060293567, -0.054794304, -0.09463916, -0.08389997, 0.021463137, -0.02207332, 0.026725953, -0.025246263, 0.046831436, 0.020624137, 0.0034627805, -0.011745995, 0.0026771717, -0.05104169, -0.022668246, -7.907333e-05, -0.018946137, 0.016108794, 0.017222375, -0.02880057, -0.013523149, -0.020319046, -0.0117688775, 0.037953295, 0.01572743, -0.03478035, -0.06571656, -0.03978384, 0.07755408, 0.047594164, -0.0065136882, 0.08609662, 0.029792115, -0.023797082, -0.079994805, 0.05927914, 0.016154557, 0.0066357246, 0.03410915, 0.017512212, -0.0012394313, 0.053512923, -0.039661802, -0.12923646, 0.036458347, 0.049058598, -0.1001308, -0.12642962, 0.13021275, 0.07078106, -0.053146813, 0.049089108, 0.059340157, -0.0022061877, 0.015208776, -0.060133394, 0.055709578, 0.004709839, -0.0155596305, -0.08139822, 0.02483439, 0.0037545236, 0.0055297706, -0.07407604, -0.021798737, 0.06766914, -0.00620097, 0.03383457, -0.014301131, -0.08152026, 0.013759594, 0.019434283, 0.08414404, 0.06510638, 0.022027554, -0.061048668, 0.07541844, 0.1488843, -0.016276594, -0.019998701, 0.0035371464, 0.021615682, 0.009015433, 0.01690203, 0.0675471, 0.00683022, -0.0134011125, 0.04271271, -0.027442915, 0.10849028, 0.017344411, -0.022485191, -0.036336314, -0.014484185, 0.09097807, -0.02245468, 0.018137647, 0.00893916, -0.052140016, 0.008748478, 0.044939872, 0.013614676, -0.022042809, -0.03282777, 0.034932896, -0.022637736, -0.052750196, 0.07511335, 0.06840135, -0.04143133, -0.059431683, 0.042804237, 0.03316337, 0.041858457, 0.03270573, -0.03883806, 0.04472631, -0.01404943, -0.0018991901, -0.0235225, -0.048509434, -0.096225634, 0.040912673, 0.05793674, -0.07590659, -0.01530793, 0.05729605, -0.045794126, -0.023064863, -0.0002791104, -0.07462521, -0.018396974, -0.001059237, -0.016841011, 0.10739195, -0.03377355, -0.04173642, 0.025108973, 0.10135116, -0.031363335, 0.056746885, 0.03642784, -0.03972282, -0.053146813, -0.0027534442, -0.05638078, 0.01530793, -0.021051263, -0.017435938, -0.10592752, 0.026771717, -0.018534265, 0.04829587, -0.056746885, 0.013584167, 0.08725596, -0.033590496, 0.06840135, -0.07255059, -0.03505493, 0.011868032, -0.035848167, -0.07419808, -0.070598006, -0.018839356, 0.053207833, -0.012707031, -0.027076807, -0.029517533, -0.035604093, -0.0127375405, -0.027305625, -0.017618993, -0.037495658, 0.051499326, -0.00014908929, 0.079994805, -0.021432627, 0.07450317, 0.016520666, -0.06214699, -0.035817657, -0.08512033, -0.05488583, 0.008428133, 0.024712354, -0.111419156, 0.08304571, -0.020486847, -0.025383553, -0.01449944, -0.060346957, 0.019968191, 0.060621537, 0.013446877, -0.0075471834, 0.02802259, -0.054550234, -0.016779993, -0.035543077, -0.0036210462, -0.119473554, 0.043231364, 0.019296993, 0.06577757, 0.06626572, -0.033224385, 0.0001260883, 0.015818957, 0.032248095, 0.03706853, 0.04207202, 0.042438127, -0.005670875, 0.008756106, 0.0026333148, -0.08353386, -0.003581003, 0.1256974, -0.07877444, 0.022424173, 0.108185194, 0.06278768, 0.016993556, -0.028053097, -0.03709904, 0.004835689, -0.03896009, 0.00015337963, 0.011730741, -0.036580384, -0.060377467, 0.055160414, 0.01989192, 0.03609224, 0.03850246, -0.042834748, 0.014697748, 0.03447526, 0.05604518, 0.018976647, 0.026375098, -0.019403774, 0.025871698, -0.018366465, 0.07602862, -0.043933075, -0.025871698, 0.015971502, 0.048173834, -0.046312783, 0.019571574, -0.14632154, 0.03981435, -0.03896009, 0.1119073, -0.08530338, 0.018732574, 0.11032083, 0.0110214045, 0.046922963, -0.014026549, -0.049455218, -0.0057280795, 0.06541146, 0.007162006, -0.09280862, 0.07029292, 0.042834748, -0.06290972, -0.06852339, 0.041187257, -0.034597296, -0.084266074, -0.055099394, -0.0068874243, -0.029197188, -0.021920772, 0.041156746, -0.02614628, -0.07133023, 0.018290192, 0.068096265, 0.03474984, -0.009755278, 0.04829587, -0.005556466, -0.06022492, -0.08152026, 0.043109328, 0.056929942, -0.036580384, 0.018107139, -0.01818341, -0.0045878026, 0.0675471, -0.034902386, -0.004603057, 0.04442122, 0.061933428, -0.07041495, -0.010365459, 0.025292026, -0.033559985, 0.0034189236, -0.045946673, 0.009465442, -0.07615066, -0.0055068885, -0.07523539, -0.076272696, -0.0037640575, -0.05363496, 0.071757354, 0.0235225], Text: {'text': 'Document 1'}\n",
      "ID: 2, Vector: [-0.004264617, -0.07610701, -0.12853357, -0.007751075, -0.06115415, 0.020979779, -0.09197535, 0.08367499, 0.00073000096, 0.034757774, 0.05065663, 0.024641704, 0.0074077696, -0.028471468, -0.040342208, 0.12047734, -0.03130946, -0.087947235, 0.029402208, 0.095515214, -0.00887254, -0.054654233, 0.019148817, -0.029722625, 0.06872213, 0.019850686, 0.04281401, -0.06957658, 0.083247766, -0.056546226, 0.02430603, -0.06982071, 0.103998676, 0.07897552, 0.019301398, 0.027723825, 0.014174702, -0.02305487, 0.103998676, 0.010512777, -0.03007356, 0.012526835, 0.0017966321, -0.021010296, -0.020415233, 0.013465204, 0.04357691, 0.011748676, -0.05373875, -0.025725024, -0.016783824, 0.05090076, -0.03722957, -0.09344012, -0.017958691, 0.0065304334, -0.03478829, 0.011008662, -0.056485195, -0.055783328, 0.057736352, 0.024168706, 0.070553094, -0.0019425369, -0.0751305, 0.0066791987, -0.052396044, 0.021300199, -0.017531468, 0.017699305, -0.053952362, -0.06179499, -0.06463298, -0.008620782, 0.0015429674, 0.047696576, 0.019530268, -0.0062748613, -0.0029428909, 0.0016125821, -0.011840224, -0.0171195, -0.017607756, -0.00833088, 0.016280308, -0.005923927, 0.040037047, -0.01843169, -0.0195913, 0.021300199, -0.0056950566, 0.0029219112, 0.026426893, -0.010703502, -0.031980813, -0.04610974, -0.053708237, 0.102900095, 0.057736352, 0.011191758, 0.0272966, 0.001679336, -0.02059833, -0.120111145, 0.08562802, 0.0008029534, -0.0019740064, 0.018630045, 0.034391582, 0.02607596, 0.030577075, -0.019698106, -0.10839298, -0.0037687314, 0.008658927, -0.047330383, -0.15013893, 0.14244889, 0.06945451, -0.10619583, 0.04610974, 0.064755045, -0.019530268, 0.049313925, -0.07726662, 0.03716854, 0.030424494, -0.032743715, -0.10039778, 0.010856083, 0.056851387, -0.024717994, -0.06866109, 0.011290936, 0.066036716, -0.0040014163, 0.033109907, -0.036069963, -0.015364828, 0.021193393, 0.0024965939, 0.026396377, 0.050809212, -0.00485968, -0.059658863, 0.051450048, 0.13549124, -0.011145985, 0.040311694, -0.03167565, 0.0070377626, 0.009803278, 0.0391826, 0.041684914, 0.026030185, 0.0024355617, 0.0018652931, -0.06091002, 0.076168045, 0.033109907, 0.023695707, -0.067806646, -0.004272246, 0.10076398, -0.026899891, -0.025725024, 0.07140754, -0.013152415, 0.023329515, 0.012923544, -0.025602961, -0.053097915, -0.045682516, 0.018080756, -0.020857716, -0.014197589, 0.058682352, 0.09234155, -0.05560023, -0.059506282, 0.050809212, 0.034727257, 0.037199058, 0.009780392, -0.0652433, 0.056698807, -0.043210715, -0.013373656, -0.051083855, -0.011748676, -0.10021468, 0.06817284, 0.039731886, -0.036832865, 0.036100477, 0.0513585, -0.059201125, -0.030226141, 0.008491089, -0.05605797, -0.06530433, 0.007411584, 0.028440952, 0.116571285, -0.08074545, -0.010245762, 0.010352568, 0.08752001, -0.06499917, 0.03600893, 0.029600563, -0.037687313, -0.043210715, 0.029417465, -0.07268921, 0.03848073, -0.024382317, -0.011824966, -0.070553094, 0.057003967, -0.024168706, 0.02575554, -0.065060206, -0.018599529, 0.06008609, -0.038511246, 0.07372676, -0.01966759, -0.059811443, 0.0012034765, -0.074398115, -0.06548743, -0.038297635, -0.0011882185, 0.024092415, -0.03155359, -0.047391415, -0.0034216114, -0.022459807, 0.020491524, -0.017012695, 0.017851885, -0.06872213, 0.06792871, 0.037290603, 0.06530433, -0.043912586, 0.086177304, 0.0066791987, -0.063168205, 0.0020140589, -0.08715382, -0.029066531, 0.0079418, 0.006152797, -0.12279656, 0.06579259, -0.006091765, 0.028028985, -0.015311425, -0.0064808447, -0.002054111, 0.11138356, 0.01164187, -0.0095896665, 0.025587702, -0.055203523, -0.0019387223, -0.02807476, -0.009482861, -0.119012564, 0.0166465, 0.023558386, 0.11351968, 0.049924247, 0.014548523, 0.018538496, 0.0017470435, 0.077144556, 0.04287504, 0.06402266, 0.047421932, 8.010461e-05, 0.02490109, -0.03524603, -0.050809212, 0.010947631, 0.11669335, -0.070858255, 0.027617019, 0.12371204, 0.052182432, 0.025480896, -0.018370658, -0.06008609, 0.01774508, -0.015387715, -0.013709332, 0.02259713, -0.0013846655, -0.08050132, 0.06792871, -0.031828232, 0.041135628, 0.038511246, -0.038389184, 0.037748344, 0.040037047, 0.044767033, 0.0319503, 0.00038168894, -0.03307939, -0.008430057, -0.017165273, 0.06921039, -0.036161512, -0.027494954, 0.03007356, 0.04266143, -0.06322924, 0.018187562, -0.14025174, 0.02630483, -0.06841697, 0.070064835, -0.059506282, 0.032530103, 0.07757178, 0.026579473, 0.0399455, 0.010489889, 0.004672769, -0.035734285, 0.03750422, 0.050076827, -0.0593537, 0.0960645, 0.055783328, -0.04357691, -0.06292408, 0.053311527, -0.047482964, -0.08446841, -0.05373875, 0.018691076, -0.05746171, -0.05746171, 0.03137049, -0.041837495, -0.06310718, 0.014464605, 0.06469401, -0.02290229, -0.021010296, 0.02837992, -0.017180532, -0.03515448, -0.09038852, -0.0171195, 0.088557556, -0.08446841, 0.045835096, -0.00030706768, -0.00029395532, 0.07445914, -0.009627812, -0.01603618, 0.027052471, 0.044217747, -0.0003149351, -0.0014313931, 0.011596097, -0.028974982, 0.05785842, -0.083430864, -0.0024393762, -0.09527109, 0.011496919, -0.07610701, -0.10204565, 0.006663941, -0.033018358, 0.07610701, 0.015715763], Text: {'text': 'Document 2'}\n",
      "ID: 3, Vector: [-0.012875024, -0.06516837, -0.13509622, -0.013309785, -0.053391688, 0.026589062, -0.08762339, 0.08438938, -0.0021661771, 0.036580935, 0.060195316, 0.021295657, 0.008779119, -0.03810641, -0.034506287, 0.12313649, -0.024834763, -0.08780645, 0.028038263, 0.102145925, -0.010296969, -0.047991503, 0.013447078, -0.026543297, 0.058883406, 0.023919476, 0.05543583, -0.064436145, 0.07853155, -0.051225513, 0.020517664, -0.06474124, 0.10708848, 0.08396225, 0.017253144, 0.029060334, 0.016170055, -0.0299146, 0.10434262, 0.00074986723, -0.0198312, -0.012501283, -0.0012957018, -0.014614068, -0.019602377, 0.014095406, 0.053849332, 0.0107851215, -0.046893157, -0.02143295, -0.01848878, 0.039143737, -0.0348724, -0.095983006, -0.021143109, 0.018443014, -0.039845455, 0.01067071, -0.05674774, -0.062239453, 0.047106724, 0.022348236, 0.07602976, -0.0012585184, -0.07840951, 0.016658207, -0.061324168, 0.019861707, -0.0009324477, 0.020197313, -0.06050041, -0.05857831, -0.066022635, -0.018122666, -0.0031043454, 0.049272902, 0.02137193, -0.001863942, -0.0129207885, 0.0028259458, -0.011387684, 0.0026638638, -0.020243078, 0.0021852455, 0.014911536, -0.0073718666, 0.030509537, -0.012661458, -0.027046705, 0.016948048, 0.00051627855, 0.004385746, 0.020044766, -0.01318012, -0.02825183, -0.03828947, -0.05323914, 0.09940007, 0.05531379, 0.020441389, 0.024911037, -0.0058768997, -0.021631261, -0.1276519, 0.087440334, 0.00333126, -0.0037183498, 0.013096219, 0.033011317, 0.02216518, 0.039082717, -0.015331042, -0.11074962, 0.012493655, 0.005411629, -0.041126855, -0.14925265, 0.14034387, 0.07560263, -0.092993066, 0.041981123, 0.06724302, -0.018244702, 0.045550738, -0.08786747, 0.03298081, 0.03883864, -0.049303412, -0.09604402, 0.018122666, 0.051774684, -0.035116475, -0.06510735, 0.007608316, 0.07432123, -0.0050607696, 0.038655583, -0.04481851, -0.021097345, 0.028907785, 0.0071621137, 0.027565366, 0.055588376, 0.0024789, -0.057052832, 0.055740923, 0.14705597, -0.008977431, 0.039753925, -0.05400188, 0.015941232, -0.0009510395, 0.037282653, 0.044665962, 0.025444953, 0.0019430761, 0.0005396374, -0.060897034, 0.08298594, 0.033041827, 0.025185622, -0.067914225, -0.009938481, 0.09976619, -0.031165492, -0.031058708, 0.075541615, -0.017466709, 0.02539919, 0.018824384, -0.041920103, -0.06474124, -0.030051894, 0.0066434518, -0.012066522, -0.015407316, 0.06126315, 0.09360326, -0.05735793, -0.05860882, 0.051500097, 0.038625073, 0.03481138, -0.011410567, -0.06968378, 0.051133983, -0.037313163, -0.017131105, -0.04622195, -0.013439451, -0.10635625, 0.0646192, 0.04664908, -0.040059023, 0.029746799, 0.052384876, -0.055832453, -0.03612329, 0.007543483, -0.053483218, -0.063398816, 0.0066053146, 0.014209817, 0.11209204, -0.078287475, -0.02408728, 0.009396938, 0.07938582, -0.06596162, 0.036733482, 0.029136607, -0.03432323, -0.039723415, 0.037252143, -0.066266716, 0.033041827, -0.023171993, -0.009816444, -0.07627384, 0.06187334, -0.032065522, 0.037984375, -0.0700499, -0.011845328, 0.070904166, -0.032553677, 0.0674871, -0.029716289, -0.05195774, 0.0054078153, -0.07627384, -0.072612695, -0.038472526, 0.005758675, 0.025795814, -0.016902283, -0.041950613, 0.00036825964, -0.020960052, 0.007909598, -0.017481964, 0.008344358, -0.07157537, 0.07969091, 0.016749736, 0.079934984, -0.041035328, 0.09720338, -0.003912848, -0.060134295, -0.010579182, -0.08853868, -0.031760428, 0.019373557, 0.0063993754, -0.107881725, 0.07053805, -0.012798751, 0.028267086, -0.015254769, -0.008969803, -0.004248453, 0.10660032, 0.018229447, -0.0065099723, 0.028602691, -0.06840238, -0.010640201, -0.025094094, -0.010342733, -0.11990248, 0.01516324, 0.011128354, 0.10196287, 0.04994411, 0.006586246, 0.013576744, 0.014057269, 0.068036266, 0.05070685, 0.07969091, 0.04073023, -0.012020757, 0.02600938, -0.03279775, -0.048357617, 0.015201377, 0.100559436, -0.070965186, 0.029868836, 0.12478401, 0.04085227, 0.022485528, -0.016307347, -0.07566365, 0.023904221, -0.0045878715, -0.007955362, 0.024255082, -0.0015111755, -0.07053805, 0.06864646, -0.034445267, 0.02837387, 0.03618431, -0.043232013, 0.035116475, 0.041859083, 0.041340422, 0.020502409, 0.0078104413, -0.025826322, -0.0031043454, -0.014728479, 0.07157537, -0.030372243, -0.022226198, 0.03566565, 0.03691654, -0.053696785, 0.016642952, -0.13570642, 0.020624448, -0.070965186, 0.076334864, -0.062392004, 0.041248895, 0.064253084, 0.028068773, 0.03151635, 0.006540482, -0.0013853237, -0.030860396, 0.040394627, 0.047625385, -0.070599064, 0.10202389, 0.054459523, -0.053605255, -0.06693792, 0.05653417, -0.042377748, -0.086403005, -0.05189672, 0.025261896, -0.056076527, -0.060866527, 0.03365202, -0.04298794, -0.059585124, 0.011151236, 0.062330984, -0.011128354, -0.014057269, 0.031760428, -0.0081994375, -0.03298081, -0.08902683, -0.018519288, 0.08493855, -0.07834849, 0.049089845, -0.0076197567, -0.010952923, 0.067059964, -0.0066815885, -0.012691967, 0.02204314, 0.03667246, 0.0033369805, -0.0081155365, 0.011822445, -0.023827948, 0.057205383, -0.078287475, -0.008405377, -0.09708135, 0.006513786, -0.0659006, -0.096715234, -0.0038480153, -0.01644464, 0.07291779, 0.011700408], Text: {'text': 'Document 3'}\n",
      "ID: 4, Vector: [-0.005098443, -0.06258568, -0.12401123, -0.019996887, -0.058525242, 0.020683803, -0.09958755, 0.07894954, 0.0051480536, 0.04716823, 0.053487856, 0.027110284, 0.016104363, -0.041672904, -0.028071966, 0.12248475, -0.026530221, -0.06960749, 0.036116514, 0.103128985, -0.009738942, -0.050587546, 0.0138375405, -0.030147979, 0.056662936, 0.032269787, 0.062280383, -0.06606605, 0.059715897, -0.0599296, 0.033277262, -0.06649347, 0.0899402, 0.08090344, 0.020805921, 0.031185985, 0.013791746, -0.033002496, 0.10856325, -0.0004927668, -0.0075942376, -0.02143178, -0.015577728, -0.0124713415, -0.029751094, 0.010036605, 0.04109284, 0.020607479, -0.04411527, -0.01428022, -0.012509503, 0.022698756, -0.03648287, -0.09769472, -0.026957637, 0.022729287, -0.039627418, 0.012715578, -0.06002119, -0.05880001, 0.04811465, 0.020424303, 0.07320998, -0.0044191596, -0.07650717, 0.012448444, -0.049335834, 0.027705612, 0.0018680298, 0.019630533, -0.07400375, -0.06685982, -0.06429534, -0.014646575, 0.0021695097, 0.041337077, 0.018729908, 0.0032208727, -0.007464487, -0.0012507595, -0.021233337, 0.005079362, -0.026469162, 0.011715733, 0.013944394, -0.0012431272, 0.009197041, -0.01857726, -0.02143178, 0.02172181, 0.00275148, 0.013059036, 0.024225237, -0.010853273, -0.026453897, -0.042161375, -0.055991285, 0.096534595, 0.05562493, 0.0231567, 0.01640966, 0.004793147, -0.016714955, -0.12175204, 0.08468911, 0.007937696, -0.0017354169, 0.013829908, 0.033796266, 0.018119317, 0.050648604, -0.0138833355, -0.11613459, 0.014516824, 0.00028955415, -0.035292216, -0.14055827, 0.14812961, 0.065150164, -0.09421434, 0.035505924, 0.06863054, -0.006720328, 0.050587546, -0.08682618, 0.04268038, 0.03718505, -0.060662314, -0.09671777, 0.03260561, 0.04555016, -0.048481002, -0.079621196, -0.006083023, 0.078827426, -0.0013385321, 0.036116514, -0.041367605, -0.015982246, 0.03275826, 0.0043161223, 0.028896265, 0.049580067, 0.0121584125, -0.052144554, 0.0686916, 0.15826544, -0.00438863, 0.03498692, -0.056754526, 0.006529518, -0.013142993, 0.040848605, 0.03431527, 0.03736823, -0.00025377728, 0.0038791671, -0.065760754, 0.084017456, 0.04039066, 0.0100442385, -0.048358884, -0.010448756, 0.09201621, -0.018134583, -0.03342991, 0.084811226, -0.019416826, 0.017279753, 0.01081511, -0.036330223, -0.06490593, -0.027339255, -0.0066936146, 0.006934035, -0.0061631626, 0.066554524, 0.088413715, -0.0607539, -0.056754526, 0.05034331, 0.029934272, 0.03358256, -0.02750717, -0.07351527, 0.05040437, -0.020943305, -0.020256389, -0.03935265, -0.010196886, -0.09946544, 0.061272904, 0.05406792, -0.040634897, 0.038345177, 0.065333344, -0.046252344, -0.032880377, 0.013532245, -0.055838637, -0.06087602, 0.004999222, 0.026041748, 0.11002868, -0.076446116, -0.026408102, 0.00970078, 0.079621196, -0.076446116, 0.018500937, 0.018790968, -0.018470407, -0.037795644, 0.042894088, -0.06667665, 0.032514025, -0.027323991, -0.021416513, -0.07730094, 0.056143932, -0.030850159, 0.04481745, -0.07412586, -0.012791902, 0.07412586, -0.036055457, 0.07235515, -0.046893463, -0.049915895, 0.007212618, -0.07412586, -0.06960749, -0.031079132, 0.0075369948, 0.033155143, -0.011914176, -0.028926795, 0.0012774729, -0.03342991, 0.0025835673, -0.00618606, 0.006914954, -0.06618817, 0.07150032, 0.0038848915, 0.08426169, -0.036910284, 0.09842743, 0.00027715153, -0.07064549, -0.0069416678, -0.10038132, -0.01822617, 0.009868693, -0.002005413, -0.1065483, 0.064356394, 0.0016963008, 0.025812777, -0.013791746, -0.015875392, 0.0012192759, 0.11173833, 0.010891435, -0.0072049852, 0.04014642, -0.078216836, -0.0077583343, -0.017356077, -0.007785048, -0.13225423, 0.017249223, 0.014700002, 0.104533345, 0.05791465, -0.0014711451, 0.004010826, 0.017752962, 0.061272904, 0.05257197, 0.08169721, 0.042833026, -0.013402494, 0.01705078, -0.04026854, -0.037826173, 0.02286667, 0.08884113, -0.07430904, 0.030147979, 0.12193522, 0.03874206, 0.009677883, -0.026743928, -0.079010606, 0.023874147, 0.005899845, -0.008326949, 0.031216515, -0.013631466, -0.06637135, 0.06856948, -0.030926485, 0.025385361, 0.027965114, -0.056143932, 0.036147047, 0.030193774, 0.039291594, 0.016134894, 0.0020798289, -0.012356855, 0.008372743, -0.016776014, 0.06484487, -0.032514025, -0.023965735, 0.034712154, 0.047076643, -0.05251091, 0.0040184585, -0.1387265, 0.021676015, -0.06722618, 0.070523374, -0.0686916, 0.03211714, 0.077056706, 0.026927106, 0.025828041, -0.006666901, -0.002541589, -0.019600002, 0.058891598, 0.05327415, -0.07180562, 0.10721995, 0.055258576, -0.05779253, -0.063745804, 0.05867789, -0.032208726, -0.08072026, -0.04893895, 0.035841748, -0.05022119, -0.06905796, 0.042405613, -0.045305926, -0.06716512, 0.008479596, 0.066127114, 0.0033296344, -0.02327882, 0.012761372, -0.010731154, -0.020912776, -0.095374465, -0.018623056, 0.07479752, -0.06582182, 0.056082875, -0.013532245, -0.013555142, 0.05846418, -0.009479441, -0.02163022, 0.02967477, 0.039169475, -0.010998288, -0.009387852, 0.004129128, -0.020668538, 0.059166364, -0.0727215, -0.023202496, -0.090978205, 0.0017268305, -0.05489222, -0.09629036, 0.0025740268, -0.015348756, 0.06423428, 0.013173522], Text: {'text': 'Document 4'}\n"
     ]
    }
   ],
   "source": [
    "stored_vectors, _ = qdrant_client.scroll(\n",
    "    collection_name=\"auritas\",\n",
    "    with_vectors=True,\n",
    "    with_payload=True,\n",
    "    limit=5\n",
    ") \n",
    "\n",
    "for vec in stored_vectors:\n",
    "    print(f\"ID: {vec.id}, Vector: {vec.vector}, Text: {vec.payload}\")"
   ]
  },
  {
   "cell_type": "code",
   "execution_count": 58,
   "metadata": {},
   "outputs": [
    {
     "name": "stdout",
     "output_type": "stream",
     "text": [
      "\u001b[0;31mSignature:\u001b[0m \u001b[0mquery_chunking\u001b[0m\u001b[0;34m(\u001b[0m\u001b[0mquery\u001b[0m\u001b[0;34m)\u001b[0m\u001b[0;34m\u001b[0m\u001b[0;34m\u001b[0m\u001b[0m\n",
      "\u001b[0;31mDocstring:\u001b[0m <no docstring>\n",
      "\u001b[0;31mSource:\u001b[0m   \n",
      "\u001b[0;32mdef\u001b[0m \u001b[0mquery_chunking\u001b[0m\u001b[0;34m(\u001b[0m\u001b[0mquery\u001b[0m\u001b[0;34m)\u001b[0m\u001b[0;34m:\u001b[0m\u001b[0;34m\u001b[0m\n",
      "\u001b[0;34m\u001b[0m    \u001b[0mresponse\u001b[0m \u001b[0;34m=\u001b[0m \u001b[0mcohere_client\u001b[0m\u001b[0;34m.\u001b[0m\u001b[0membed\u001b[0m\u001b[0;34m(\u001b[0m\u001b[0;34m\u001b[0m\n",
      "\u001b[0;34m\u001b[0m        \u001b[0mtexts\u001b[0m\u001b[0;34m=\u001b[0m\u001b[0mquery\u001b[0m\u001b[0;34m,\u001b[0m\u001b[0;34m\u001b[0m\n",
      "\u001b[0;34m\u001b[0m        \u001b[0mmodel\u001b[0m\u001b[0;34m=\u001b[0m\u001b[0;34m\"embed-english-light-v3.0\"\u001b[0m\u001b[0;34m,\u001b[0m\u001b[0;34m\u001b[0m\n",
      "\u001b[0;34m\u001b[0m        \u001b[0minput_type\u001b[0m\u001b[0;34m=\u001b[0m\u001b[0;34m\"search_query\"\u001b[0m\u001b[0;34m,\u001b[0m\u001b[0;34m\u001b[0m\n",
      "\u001b[0;34m\u001b[0m        \u001b[0membedding_types\u001b[0m\u001b[0;34m=\u001b[0m\u001b[0;34m[\u001b[0m\u001b[0;34m\"float\"\u001b[0m\u001b[0;34m]\u001b[0m\u001b[0;34m\u001b[0m\n",
      "\u001b[0;34m\u001b[0m    \u001b[0;34m)\u001b[0m\u001b[0;34m\u001b[0m\n",
      "\u001b[0;34m\u001b[0m    \u001b[0;32mreturn\u001b[0m \u001b[0mresponse\u001b[0m \u001b[0;31m# [\"results\"][0][\"text\"]\u001b[0m\u001b[0;34m\u001b[0m\u001b[0;34m\u001b[0m\u001b[0m\n",
      "\u001b[0;31mFile:\u001b[0m      /var/folders/rt/0kf7v29569z7rctzmpst_dsh0000gn/T/ipykernel_23533/543348545.py\n",
      "\u001b[0;31mType:\u001b[0m      function"
     ]
    }
   ],
   "source": [
    "??query_chunking"
   ]
  },
  {
   "cell_type": "code",
   "execution_count": 40,
   "metadata": {},
   "outputs": [],
   "source": [
    "def retrieve_top_chunks(query:str, collection_name, chunks, n=5):\n",
    "    # Fetch all stored points\n",
    "    stored_points = qdrant_client.scroll(collection_name=\"daves-rag\", with_vectors=True, limit=1000)[0]\n",
    "    query_chunks = query_chunking([query])\n",
    "    query_embeddings = query_chunks.embeddings.float\n",
    "    \n",
    "    # Extract embeddings & IDs\n",
    "    chunk_embeddings = [point.vector for point in stored_points]\n",
    "    stored_ids = [point.id for point in stored_points]\n",
    "    \n",
    "    def cosine_similarity(a, b):\n",
    "        return np.dot(a, b) / (np.linalg.norm(a) * np.linalg.norm(b))\n",
    "\n",
    "    # --- Compute Similarity Scores ---\n",
    "    similarities = []\n",
    "    for chunk_embedding in chunk_embeddings:\n",
    "        subquery_scores = [cosine_similarity(query_embedding, chunk_embedding) for query_embedding in query_embeddings]\n",
    "        similarities.append(np.mean(subquery_scores))  # Average similarity if multiple subqueries\n",
    "\n",
    "    print(\"Similarity scores:\", similarities)\n",
    "\n",
    "    # --- Retrieve Top `n` Chunks ---\n",
    "    top_indices = np.argsort(similarities)[::-1][:n]  # Sort and get top `n`\n",
    "\n",
    "    # Retrieve top similar document chunks\n",
    "    top_chunks_after_retrieval = [chunks[i] for i in top_indices]\n",
    "\n",
    "    return top_chunks_after_retrieval"
   ]
  },
  {
   "cell_type": "code",
   "execution_count": 41,
   "metadata": {},
   "outputs": [],
   "source": [
    "import pandas as pd"
   ]
  },
  {
   "cell_type": "code",
   "execution_count": 65,
   "metadata": {},
   "outputs": [],
   "source": [
    "def inspect_qdrant_collection(collection_name=\"auritas\", limit=20):\n",
    "    try:\n",
    "        # Get the first few points from the collection\n",
    "        points = qdrant_client.scroll(\n",
    "            collection_name=collection_name,\n",
    "            limit=limit,\n",
    "            with_payload=True\n",
    "        )[0]\n",
    "\n",
    "        print(f\"Found {len(points)} points in collection {collection_name}\")\n",
    "        for i, point in enumerate(points):\n",
    "            print(f\"Point {i} payload: {point.payload}\")\n",
    "\n",
    "        return points\n",
    "    except Exception as e:\n",
    "        print(f\"Error inspecting collection: {str(e)}\")\n",
    "        return []"
   ]
  },
  {
   "cell_type": "code",
   "execution_count": 42,
   "metadata": {},
   "outputs": [],
   "source": [
    "def get_llm_output(top_chunks, ch, query):\n",
    "    preamble = \"\"\"\n",
    "    ## Task & Context\n",
    "    You give answers to user's questions with precision, based on chunked document string you receive.\n",
    "    You should focus on serving the user's needs as best you can, which can be wide-ranging but always relevant to the document string.\n",
    "    If you are not sure about the answer, you can ask for clarification or provide a general response saying you are not sure.\n",
    "    \n",
    "    ## Style Guide\n",
    "    Unless the user asks for a different style of answer, you should answer in full sentences, using proper grammar and spelling.\n",
    "    \"\"\"\n",
    "\n",
    "    # retrieved documents\n",
    "    documents = [\n",
    "        {\"data\": {\"title\": f\"chunk {i}\", \"snippet\": top_chunks[i]}} for i in range(len(top_chunks))\n",
    "    ]\n",
    "\n",
    "    # get model response\n",
    "    response = ch.chat(\n",
    "        model=\"command-r-08-2024\",\n",
    "        messages=[{\"role\": \"system\", \"content\": preamble},\n",
    "                  {\"role\": \"user\", \"content\": query}],\n",
    "        documents=documents,  \n",
    "        temperature=0.3\n",
    "    )\n",
    "\n",
    "    print(\"Final answer:\")\n",
    "    print(response.message.content[0].text)\n"
   ]
  },
  {
   "cell_type": "code",
   "execution_count": 59,
   "metadata": {},
   "outputs": [
    {
     "data": {
      "text/plain": [
       "'Nielsen Holdings PLC, an American information, data, and market measurement firm operating in over 100 countries with approximately 44,000 employees worldwide and assets over 3.5 Billion dollars, sought to implement and streamline SAP BTP Document Management. Founded in 1923, Nielsen looked to embra\\n'"
      ]
     },
     "execution_count": 59,
     "metadata": {},
     "output_type": "execute_result"
    }
   ],
   "source": [
    "list_chunks[0]"
   ]
  },
  {
   "cell_type": "code",
   "execution_count": 43,
   "metadata": {},
   "outputs": [
    {
     "name": "stdout",
     "output_type": "stream",
     "text": [
      "Similarity scores: [0.032323270489576124, 0.08858491040083244, 0.07804837155779201, 0.07615967539076995, 0.082133896019837, 0.07681949617836238, 0.06833293063347465, 0.07021145034228328, 0.07315295093838571, 0.07315295093838571, 0.07315295093838571, 0.07315295093838571, 0.07315295093838571, 0.07315295093838571, 0.07315295093838571, 0.07315295093838571, 0.07315295093838571]\n",
      "Final answer:\n",
      "Auritas can help with data migration by integrating a company's SAP systems with SAP's Business Technology Platform (BTP) using ArchiveLink and SAP Document Management System (DMS).\n",
      "\n",
      "ArchiveLink is used to migrate attachments from the SAP database to the BTP environment by adjusting configurations for business objects, enabling seamless access to documents stored on BTP from within SAP.\n",
      "None\n"
     ]
    }
   ],
   "source": [
    "query=\"How can auritas help with data migration?\"\n",
    "ch = cohere.ClientV2(cohere_key)\n",
    "\n",
    "top_chunks = retrieve_top_chunks(query=query, \n",
    "                                 collection_name=\"auritas\", \n",
    "                                 chunks=list_chunks,\n",
    "                                 n=5)\n",
    "print(get_llm_output(top_chunks, ch, query))"
   ]
  },
  {
   "cell_type": "code",
   "execution_count": 53,
   "metadata": {},
   "outputs": [],
   "source": [
    "!pip install 'qdrant-client[fastembed]' --quiet"
   ]
  },
  {
   "cell_type": "code",
   "execution_count": 55,
   "metadata": {},
   "outputs": [
    {
     "ename": "ImportError",
     "evalue": "fastembed is not installed. Please install it to enable fast vector indexing with `pip install fastembed`.",
     "output_type": "error",
     "traceback": [
      "\u001b[0;31m---------------------------------------------------------------------------\u001b[0m",
      "\u001b[0;31mImportError\u001b[0m                               Traceback (most recent call last)",
      "Cell \u001b[0;32mIn[55], line 1\u001b[0m\n\u001b[0;32m----> 1\u001b[0m \u001b[43mqdrant_client\u001b[49m\u001b[38;5;241;43m.\u001b[39;49m\u001b[43mquery\u001b[49m\u001b[43m(\u001b[49m\n\u001b[1;32m      2\u001b[0m \u001b[43m    \u001b[49m\u001b[43mcollection_name\u001b[49m\u001b[38;5;241;43m=\u001b[39;49m\u001b[38;5;124;43m\"\u001b[39;49m\u001b[38;5;124;43mauritas\u001b[39;49m\u001b[38;5;124;43m\"\u001b[39;49m\u001b[43m,\u001b[49m\n\u001b[1;32m      3\u001b[0m \u001b[43m    \u001b[49m\u001b[43mquery_text\u001b[49m\u001b[38;5;241;43m=\u001b[39;49m\u001b[38;5;124;43m\"\u001b[39;49m\u001b[38;5;124;43mHow did auritas help with data migration?\u001b[39;49m\u001b[38;5;124;43m\"\u001b[39;49m\u001b[43m,\u001b[49m\n\u001b[1;32m      4\u001b[0m \u001b[43m    \u001b[49m\u001b[43mlimit\u001b[49m\u001b[38;5;241;43m=\u001b[39;49m\u001b[38;5;241;43m1\u001b[39;49m\n\u001b[1;32m      5\u001b[0m \u001b[43m)\u001b[49m\n",
      "File \u001b[0;32m~/Desktop/AI/spring2025_courses/.venv/lib/python3.12/site-packages/qdrant_client/qdrant_fastembed.py:708\u001b[0m, in \u001b[0;36mQdrantFastembedMixin.query\u001b[0;34m(self, collection_name, query_text, query_filter, limit, **kwargs)\u001b[0m\n\u001b[1;32m    679\u001b[0m \u001b[38;5;28;01mdef\u001b[39;00m\u001b[38;5;250m \u001b[39m\u001b[38;5;21mquery\u001b[39m(\n\u001b[1;32m    680\u001b[0m     \u001b[38;5;28mself\u001b[39m,\n\u001b[1;32m    681\u001b[0m     collection_name: \u001b[38;5;28mstr\u001b[39m,\n\u001b[0;32m   (...)\u001b[0m\n\u001b[1;32m    685\u001b[0m     \u001b[38;5;241m*\u001b[39m\u001b[38;5;241m*\u001b[39mkwargs: Any,\n\u001b[1;32m    686\u001b[0m ) \u001b[38;5;241m-\u001b[39m\u001b[38;5;241m>\u001b[39m \u001b[38;5;28mlist\u001b[39m[QueryResponse]:\n\u001b[1;32m    687\u001b[0m \u001b[38;5;250m    \u001b[39m\u001b[38;5;124;03m\"\"\"\u001b[39;00m\n\u001b[1;32m    688\u001b[0m \u001b[38;5;124;03m    Search for documents in a collection.\u001b[39;00m\n\u001b[1;32m    689\u001b[0m \u001b[38;5;124;03m    This method automatically embeds the query text using the specified embedding model.\u001b[39;00m\n\u001b[0;32m   (...)\u001b[0m\n\u001b[1;32m    705\u001b[0m \n\u001b[1;32m    706\u001b[0m \u001b[38;5;124;03m    \"\"\"\u001b[39;00m\n\u001b[0;32m--> 708\u001b[0m     embedding_model_inst \u001b[38;5;241m=\u001b[39m \u001b[38;5;28;43mself\u001b[39;49m\u001b[38;5;241;43m.\u001b[39;49m\u001b[43m_get_or_init_model\u001b[49m\u001b[43m(\u001b[49m\u001b[43mmodel_name\u001b[49m\u001b[38;5;241;43m=\u001b[39;49m\u001b[38;5;28;43mself\u001b[39;49m\u001b[38;5;241;43m.\u001b[39;49m\u001b[43membedding_model_name\u001b[49m\u001b[43m)\u001b[49m\n\u001b[1;32m    709\u001b[0m     embeddings \u001b[38;5;241m=\u001b[39m \u001b[38;5;28mlist\u001b[39m(embedding_model_inst\u001b[38;5;241m.\u001b[39mquery_embed(query\u001b[38;5;241m=\u001b[39mquery_text))\n\u001b[1;32m    710\u001b[0m     query_vector \u001b[38;5;241m=\u001b[39m embeddings[\u001b[38;5;241m0\u001b[39m]\u001b[38;5;241m.\u001b[39mtolist()\n",
      "File \u001b[0;32m~/Desktop/AI/spring2025_courses/.venv/lib/python3.12/site-packages/qdrant_client/qdrant_fastembed.py:259\u001b[0m, in \u001b[0;36mQdrantFastembedMixin._get_or_init_model\u001b[0;34m(cls, model_name, cache_dir, threads, providers, **kwargs)\u001b[0m\n\u001b[1;32m    256\u001b[0m \u001b[38;5;28;01mif\u001b[39;00m model_name \u001b[38;5;129;01min\u001b[39;00m \u001b[38;5;28mcls\u001b[39m\u001b[38;5;241m.\u001b[39membedding_models:\n\u001b[1;32m    257\u001b[0m     \u001b[38;5;28;01mreturn\u001b[39;00m \u001b[38;5;28mcls\u001b[39m\u001b[38;5;241m.\u001b[39membedding_models[model_name]\n\u001b[0;32m--> 259\u001b[0m \u001b[38;5;28;43mcls\u001b[39;49m\u001b[38;5;241;43m.\u001b[39;49m\u001b[43m_import_fastembed\u001b[49m\u001b[43m(\u001b[49m\u001b[43m)\u001b[49m\n\u001b[1;32m    261\u001b[0m \u001b[38;5;28;01mif\u001b[39;00m model_name \u001b[38;5;129;01mnot\u001b[39;00m \u001b[38;5;129;01min\u001b[39;00m SUPPORTED_EMBEDDING_MODELS:\n\u001b[1;32m    262\u001b[0m     \u001b[38;5;28;01mraise\u001b[39;00m \u001b[38;5;167;01mValueError\u001b[39;00m(\n\u001b[1;32m    263\u001b[0m         \u001b[38;5;124mf\u001b[39m\u001b[38;5;124m\"\u001b[39m\u001b[38;5;124mUnsupported embedding model: \u001b[39m\u001b[38;5;132;01m{\u001b[39;00mmodel_name\u001b[38;5;132;01m}\u001b[39;00m\u001b[38;5;124m. Supported models: \u001b[39m\u001b[38;5;132;01m{\u001b[39;00mSUPPORTED_EMBEDDING_MODELS\u001b[38;5;132;01m}\u001b[39;00m\u001b[38;5;124m\"\u001b[39m\n\u001b[1;32m    264\u001b[0m     )\n",
      "File \u001b[0;32m~/Desktop/AI/spring2025_courses/.venv/lib/python3.12/site-packages/qdrant_client/qdrant_fastembed.py:231\u001b[0m, in \u001b[0;36mQdrantFastembedMixin._import_fastembed\u001b[0;34m(cls)\u001b[0m\n\u001b[1;32m    228\u001b[0m     \u001b[38;5;28;01mreturn\u001b[39;00m\n\u001b[1;32m    230\u001b[0m \u001b[38;5;66;03m# If it's not, ask the user to install it\u001b[39;00m\n\u001b[0;32m--> 231\u001b[0m \u001b[38;5;28;01mraise\u001b[39;00m \u001b[38;5;167;01mImportError\u001b[39;00m(\n\u001b[1;32m    232\u001b[0m     \u001b[38;5;124m\"\u001b[39m\u001b[38;5;124mfastembed is not installed.\u001b[39m\u001b[38;5;124m\"\u001b[39m\n\u001b[1;32m    233\u001b[0m     \u001b[38;5;124m\"\u001b[39m\u001b[38;5;124m Please install it to enable fast vector indexing with `pip install fastembed`.\u001b[39m\u001b[38;5;124m\"\u001b[39m\n\u001b[1;32m    234\u001b[0m )\n",
      "\u001b[0;31mImportError\u001b[0m: fastembed is not installed. Please install it to enable fast vector indexing with `pip install fastembed`."
     ]
    }
   ],
   "source": [
    "qdrant_client.query(\n",
    "    collection_name=\"auritas\",\n",
    "    query_text=\"How did auritas help with data migration?\",\n",
    "    limit=1\n",
    ")"
   ]
  },
  {
   "cell_type": "markdown",
   "metadata": {},
   "source": [
    "https://cloud.qdrant.io/accounts/5afd6788-b042-400e-82cd-baa221f504f0/clusters/b2e7691c-8588-485a-938b-cc899e360d62/overview\n",
    "\n",
    "https://qdrant.tech/documentation/embeddings/cohere/\n",
    "\n",
    "https://qdrant.tech/articles/qa-with-cohere-and-qdrant/\n",
    "\n",
    "https://medium.com/@sanket.ai/building-a-streamlit-application-for-interactive-questioning-with-pdf-using-openai-and-langchain-dc82a0d8d68a\n",
    "\n"
   ]
  },
  {
   "cell_type": "code",
   "execution_count": 118,
   "metadata": {},
   "outputs": [
    {
     "data": {
      "text/plain": [
       "list"
      ]
     },
     "execution_count": 118,
     "metadata": {},
     "output_type": "execute_result"
    }
   ],
   "source": [
    "type(embeddings)"
   ]
  },
  {
   "cell_type": "code",
   "execution_count": null,
   "metadata": {},
   "outputs": [],
   "source": [
    "from langchain.schema import Document\n",
    "\n",
    "# Create a list of Document objects\n",
    "documents = [Document(page_content=chunk) for chunk in list_chunks]"
   ]
  }
 ],
 "metadata": {
  "kernelspec": {
   "display_name": ".venv",
   "language": "python",
   "name": "python3"
  },
  "language_info": {
   "codemirror_mode": {
    "name": "ipython",
    "version": 3
   },
   "file_extension": ".py",
   "mimetype": "text/x-python",
   "name": "python",
   "nbconvert_exporter": "python",
   "pygments_lexer": "ipython3",
   "version": "3.12.9"
  }
 },
 "nbformat": 4,
 "nbformat_minor": 2
}
